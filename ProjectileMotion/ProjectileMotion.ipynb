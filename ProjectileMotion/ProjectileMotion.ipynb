{
 "cells": [
  {
   "cell_type": "markdown",
   "metadata": {},
   "source": [
    "# Simulating Projectile motion"
   ]
  },
  {
   "cell_type": "markdown",
   "metadata": {},
   "source": [
    "First, we import all the libaries we are going to use."
   ]
  },
  {
   "cell_type": "code",
   "execution_count": 1,
   "metadata": {},
   "outputs": [
    {
     "name": "stdout",
     "output_type": "stream",
     "text": [
      "pygame 1.9.6\n",
      "Hello from the pygame community. https://www.pygame.org/contribute.html\n"
     ]
    }
   ],
   "source": [
    "import numpy as np             # Maths\n",
    "\n",
    "import pygame as pg            # Animation - I am using OpenGL and pygme instead of matplotlib as they are more powerfull\n",
    "from pygame.locals import *    #             for what we want to do in this example. \n",
    "from OpenGL.GL import *\n",
    "from OpenGL.GLU import *\n",
    "\n",
    "import ProjectileMotion as pm  # Simulation"
   ]
  },
  {
   "cell_type": "markdown",
   "metadata": {},
   "source": [
    "Now I define a helper function to make the code mode consise. This function takes a hex colour code string and turns it into 3 floats."
   ]
  },
  {
   "cell_type": "code",
   "execution_count": 2,
   "metadata": {},
   "outputs": [],
   "source": [
    "def hex_to_colour(hex):\n",
    "    return [float(int(hex[i:i+2],16))/255 for i in range(1, len(hex), 2)]"
   ]
  },
  {
   "cell_type": "markdown",
   "metadata": {},
   "source": [
    "These functions are used for the animation. The callback is called each timestep by the simulation so that the animation is driven by the simulation rather than the other way around. "
   ]
  },
  {
   "cell_type": "code",
   "execution_count": 3,
   "metadata": {},
   "outputs": [],
   "source": [
    "def polygon(coords, r, colour, verticies=100):\n",
    "    x, y = coords\n",
    "    theta = 0\n",
    "    theta_step = 2*np.pi / 100\n",
    "    glBegin(GL_POLYGON)\n",
    "    glColor3f(colour[0], colour[1], colour[2])\n",
    "    for _ in range(verticies):\n",
    "        x_, y_ = x+(r*np.cos(theta)), y+(r*np.sin(theta))\n",
    "        theta += theta_step\n",
    "        glVertex2f(int(x_),int(y_))\n",
    "    glEnd()\n",
    "\n",
    "def callback():\n",
    "    for event in pg.event.get():\n",
    "            if event.type == pg.QUIT:\n",
    "                pg.quit()\n",
    "                exit()\n",
    "    global tstep_no\n",
    "    if tstep_no % speed == 0:\n",
    "        glClear(GL_COLOR_BUFFER_BIT|GL_DEPTH_BUFFER_BIT)\n",
    "        frametime = clk.tick()           \n",
    "        if frametime>=1/framerate:\n",
    "            for i in range(env.num_bodies):\n",
    "                body = env.bodies[i]\n",
    "                colour = hex_to_colour(colours[i])\n",
    "                radius = radiuses[i]\n",
    "                x = (body.pos[0]/scale) + (display[0]*0.5)\n",
    "                y = (body.pos[1]/scale) + (display[1]*0.5)\n",
    "                polygon((x,y), radius, colour, 100)\n",
    "            glFlush()\n",
    "            pg.display.flip()\n",
    "        else:\n",
    "            pg.time.wait((1/framerate) - frametime)\n",
    "    tstep_no += 1\n"
   ]
  },
  {
   "cell_type": "markdown",
   "metadata": {},
   "source": [
    "Now we initialise the window that we are going to render the animation in."
   ]
  },
  {
   "cell_type": "code",
   "execution_count": 4,
   "metadata": {},
   "outputs": [],
   "source": [
    "pg.init()\n",
    "pg.display.set_caption(\"Physics Simulation\")\n",
    "display = (1920, 1080)\n",
    "\n",
    "pg.display.set_mode(display, pg.OPENGL|pg.DOUBLEBUF)\n",
    "glClearColor(0.0, 0.0, 0.0, 1.0)\n",
    "gluOrtho2D(0, display[0], 0, display[1])"
   ]
  },
  {
   "cell_type": "markdown",
   "metadata": {},
   "source": [
    "This section sets up some of the global variables that we are going to use for the animation and finally runs the simulation."
   ]
  },
  {
   "cell_type": "code",
   "execution_count": 6,
   "metadata": {},
   "outputs": [
    {
     "ename": "error",
     "evalue": "video system not initialized",
     "output_type": "error",
     "traceback": [
      "\u001b[1;31m---------------------------------------------------------------------------\u001b[0m",
      "\u001b[1;31merror\u001b[0m                                     Traceback (most recent call last)",
      "\u001b[1;32m<ipython-input-6-138216d629d2>\u001b[0m in \u001b[0;36m<module>\u001b[1;34m\u001b[0m\n\u001b[0;32m      8\u001b[0m \u001b[0mradiuses\u001b[0m \u001b[1;33m=\u001b[0m \u001b[0mnp\u001b[0m\u001b[1;33m.\u001b[0m\u001b[0marray\u001b[0m\u001b[1;33m(\u001b[0m\u001b[1;33m[\u001b[0m\u001b[1;36m20\u001b[0m\u001b[1;33m,\u001b[0m \u001b[1;36m7.01\u001b[0m\u001b[1;33m,\u001b[0m \u001b[1;36m17.39\u001b[0m\u001b[1;33m,\u001b[0m \u001b[1;36m18.30\u001b[0m\u001b[1;33m,\u001b[0m \u001b[1;36m9.74\u001b[0m\u001b[1;33m,\u001b[0m \u001b[1;36m200.9\u001b[0m\u001b[1;33m,\u001b[0m \u001b[1;36m167.4\u001b[0m\u001b[1;33m,\u001b[0m \u001b[1;36m72.87\u001b[0m\u001b[1;33m,\u001b[0m \u001b[1;36m70.76\u001b[0m\u001b[1;33m,\u001b[0m \u001b[1;36m3.4\u001b[0m\u001b[1;33m]\u001b[0m\u001b[1;33m)\u001b[0m\u001b[1;33m*\u001b[0m\u001b[1;36m0.2\u001b[0m\u001b[1;33m\u001b[0m\u001b[1;33m\u001b[0m\u001b[0m\n\u001b[0;32m      9\u001b[0m \u001b[0menv\u001b[0m \u001b[1;33m=\u001b[0m \u001b[0mpm\u001b[0m\u001b[1;33m.\u001b[0m\u001b[0mEnvironment\u001b[0m\u001b[1;33m.\u001b[0m\u001b[0mfrom_json\u001b[0m\u001b[1;33m(\u001b[0m\u001b[1;34m\"planets.json\"\u001b[0m\u001b[1;33m)\u001b[0m\u001b[1;33m\u001b[0m\u001b[1;33m\u001b[0m\u001b[0m\n\u001b[1;32m---> 10\u001b[1;33m \u001b[0m_\u001b[0m \u001b[1;33m=\u001b[0m \u001b[0menv\u001b[0m\u001b[1;33m.\u001b[0m\u001b[0mrun\u001b[0m\u001b[1;33m(\u001b[0m\u001b[0mtimestep\u001b[0m\u001b[1;33m=\u001b[0m\u001b[0mtimestep\u001b[0m\u001b[1;33m,\u001b[0m \u001b[0mtimestep_callback\u001b[0m\u001b[1;33m=\u001b[0m\u001b[0mcallback\u001b[0m\u001b[1;33m,\u001b[0m \u001b[0mloop\u001b[0m\u001b[1;33m=\u001b[0m\u001b[1;32mTrue\u001b[0m\u001b[1;33m)\u001b[0m\u001b[1;33m\u001b[0m\u001b[1;33m\u001b[0m\u001b[0m\n\u001b[0m",
      "\u001b[1;32mE:\\code\\PhysicsBeyond\\ProjectileMotion\\ProjectileMotion\\environment.py\u001b[0m in \u001b[0;36mrun\u001b[1;34m(self, tfinal, tinitial, timestep, num_timesteps, timestep_callback, loop)\u001b[0m\n\u001b[0;32m    101\u001b[0m \u001b[1;33m\u001b[0m\u001b[0m\n\u001b[0;32m    102\u001b[0m             \u001b[1;32mif\u001b[0m \u001b[0mtimestep_callback\u001b[0m\u001b[1;33m:\u001b[0m\u001b[1;33m\u001b[0m\u001b[1;33m\u001b[0m\u001b[0m\n\u001b[1;32m--> 103\u001b[1;33m                 \u001b[0mtimestep_callback\u001b[0m\u001b[1;33m(\u001b[0m\u001b[1;33m)\u001b[0m\u001b[1;33m\u001b[0m\u001b[1;33m\u001b[0m\u001b[0m\n\u001b[0m\u001b[0;32m    104\u001b[0m \u001b[1;33m\u001b[0m\u001b[0m\n\u001b[0;32m    105\u001b[0m             \u001b[0mself\u001b[0m\u001b[1;33m.\u001b[0m\u001b[0mt\u001b[0m \u001b[1;33m+=\u001b[0m \u001b[0mtimestep\u001b[0m\u001b[1;33m\u001b[0m\u001b[1;33m\u001b[0m\u001b[0m\n",
      "\u001b[1;32m<ipython-input-3-c4123432cbe6>\u001b[0m in \u001b[0;36mcallback\u001b[1;34m()\u001b[0m\n\u001b[0;32m     12\u001b[0m \u001b[1;33m\u001b[0m\u001b[0m\n\u001b[0;32m     13\u001b[0m \u001b[1;32mdef\u001b[0m \u001b[0mcallback\u001b[0m\u001b[1;33m(\u001b[0m\u001b[1;33m)\u001b[0m\u001b[1;33m:\u001b[0m\u001b[1;33m\u001b[0m\u001b[1;33m\u001b[0m\u001b[0m\n\u001b[1;32m---> 14\u001b[1;33m     \u001b[1;32mfor\u001b[0m \u001b[0mevent\u001b[0m \u001b[1;32min\u001b[0m \u001b[0mpg\u001b[0m\u001b[1;33m.\u001b[0m\u001b[0mevent\u001b[0m\u001b[1;33m.\u001b[0m\u001b[0mget\u001b[0m\u001b[1;33m(\u001b[0m\u001b[1;33m)\u001b[0m\u001b[1;33m:\u001b[0m\u001b[1;33m\u001b[0m\u001b[1;33m\u001b[0m\u001b[0m\n\u001b[0m\u001b[0;32m     15\u001b[0m             \u001b[1;32mif\u001b[0m \u001b[0mevent\u001b[0m\u001b[1;33m.\u001b[0m\u001b[0mtype\u001b[0m \u001b[1;33m==\u001b[0m \u001b[0mpg\u001b[0m\u001b[1;33m.\u001b[0m\u001b[0mQUIT\u001b[0m\u001b[1;33m:\u001b[0m\u001b[1;33m\u001b[0m\u001b[1;33m\u001b[0m\u001b[0m\n\u001b[0;32m     16\u001b[0m                 \u001b[0mpg\u001b[0m\u001b[1;33m.\u001b[0m\u001b[0mquit\u001b[0m\u001b[1;33m(\u001b[0m\u001b[1;33m)\u001b[0m\u001b[1;33m\u001b[0m\u001b[1;33m\u001b[0m\u001b[0m\n",
      "\u001b[1;31merror\u001b[0m: video system not initialized"
     ]
    }
   ],
   "source": [
    "framerate = 30\n",
    "timestep = 60*60\n",
    "scale = 5e+9\n",
    "speed = 10\n",
    "tstep_no = 0\n",
    "clk = pg.time.Clock()\n",
    "colours = [\"#fdb813\",\"#d5d2d1\",\"#8B7D82\",\"#0077be\",\"#a1251b\",\"#c88b3a\",\"#ab604a\",\"#65868b\",\"#73acac\", \"#9ca6b7\"]\n",
    "radiuses = np.array([20, 7.01, 17.39, 18.30, 9.74, 200.9, 167.4, 72.87, 70.76, 3.4])*0.2\n",
    "env = pm.Environment.from_json(\"planets.json\")\n",
    "_ = env.run(timestep=timestep, timestep_callback=callback, loop=True)"
   ]
  },
  {
   "cell_type": "code",
   "execution_count": null,
   "metadata": {},
   "outputs": [],
   "source": []
  }
 ],
 "metadata": {
  "kernelspec": {
   "display_name": "Python 3",
   "language": "python",
   "name": "python3"
  },
  "language_info": {
   "codemirror_mode": {
    "name": "ipython",
    "version": 3
   },
   "file_extension": ".py",
   "mimetype": "text/x-python",
   "name": "python",
   "nbconvert_exporter": "python",
   "pygments_lexer": "ipython3",
   "version": "3.8.3"
  }
 },
 "nbformat": 4,
 "nbformat_minor": 4
}
